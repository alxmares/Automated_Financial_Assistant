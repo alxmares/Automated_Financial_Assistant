{
 "cells": [
  {
   "cell_type": "code",
   "execution_count": 1,
   "metadata": {},
   "outputs": [
    {
     "data": {
      "text/plain": [
       "['tickets\\\\Ticket (10).png',\n",
       " 'tickets\\\\Ticket (11).png',\n",
       " 'tickets\\\\Ticket (12).png',\n",
       " 'tickets\\\\Ticket (13).png',\n",
       " 'tickets\\\\Ticket (14).png',\n",
       " 'tickets\\\\Ticket (15).png',\n",
       " 'tickets\\\\Ticket (16).png',\n",
       " 'tickets\\\\Ticket (17).png',\n",
       " 'tickets\\\\Ticket (18).png',\n",
       " 'tickets\\\\Ticket (19).png',\n",
       " 'tickets\\\\Ticket (20).png',\n",
       " 'tickets\\\\Ticket (21).png',\n",
       " 'tickets\\\\Ticket (22).png',\n",
       " 'tickets\\\\Ticket (23).png',\n",
       " 'tickets\\\\Ticket (24).png',\n",
       " 'tickets\\\\Ticket (25).png',\n",
       " 'tickets\\\\Ticket (26).png',\n",
       " 'tickets\\\\Ticket (7).png',\n",
       " 'tickets\\\\Ticket (8).png',\n",
       " 'tickets\\\\Ticket (9).png']"
      ]
     },
     "execution_count": 1,
     "metadata": {},
     "output_type": "execute_result"
    }
   ],
   "source": [
    "import os\n",
    "\n",
    "tickets = os.listdir(\"tickets\")\n",
    "tickets = [os.path.join(\"tickets\", ticket) for ticket in tickets]\n",
    "tickets"
   ]
  },
  {
   "cell_type": "code",
   "execution_count": 2,
   "metadata": {},
   "outputs": [
    {
     "name": "stderr",
     "output_type": "stream",
     "text": [
      "Neither CUDA nor MPS are available - defaulting to CPU. Note: This module is much faster with a GPU.\n"
     ]
    }
   ],
   "source": [
    "from reader import Reader\n",
    "\n",
    "reader = Reader()"
   ]
  },
  {
   "cell_type": "code",
   "execution_count": 4,
   "metadata": {},
   "outputs": [
    {
     "name": "stdout",
     "output_type": "stream",
     "text": [
      "Precio Total:  2252.01\n"
     ]
    },
    {
     "name": "stderr",
     "output_type": "stream",
     "text": [
      "c:\\Users\\AlxMa\\AppData\\Local\\Programs\\Python\\Python311\\Lib\\site-packages\\openpyxl\\worksheet\\_reader.py:329: UserWarning: Data Validation extension is not supported and will be removed\n",
      "  warn(msg)\n",
      "c:\\Users\\AlxMa\\AppData\\Local\\Programs\\Python\\Python311\\Lib\\site-packages\\openpyxl\\worksheet\\_reader.py:329: UserWarning: Data Validation extension is not supported and will be removed\n",
      "  warn(msg)\n"
     ]
    },
    {
     "name": "stdout",
     "output_type": "stream",
     "text": [
      "Datos agregados exitosamente.\n",
      "|    | Fecha      |   Cantidad | Artículo           |   Precio |   Total |\n",
      "|---:|:-----------|-----------:|:-------------------|---------:|--------:|\n",
      "|  0 | 2024-07-28 |          1 | Pago Estaciona     |     0    |    0    |\n",
      "|  1 | 2024-07-28 |          1 | Cafe Puro Nesc 200 |   109    |  109    |\n",
      "|  2 | 2024-07-28 |          1 | Jugoso Sarten Magg |    17.25 |   17.25 |\n",
      "|  3 | 2024-07-28 |          1 | Jugoso Sarten Magg |    17.25 |   17.25 |\n",
      "|  4 | 2024-07-28 |          2 | Jugoso a Ia ena    |    17.25 |   34.5  |\n"
     ]
    }
   ],
   "source": [
    "reader.get_text(\"tickets\\Ticket (26).png\")\n",
    "reader.get_relevant_text()\n",
    "reader.create_table()\n",
    "reader.add_to_excel(r\"C:\\Users\\AlxMa\\Desktop\\Alex Mares\\Cuentas\\Cuentas.xlsx\", \"Compras\", )"
   ]
  }
 ],
 "metadata": {
  "kernelspec": {
   "display_name": "Python 3",
   "language": "python",
   "name": "python3"
  },
  "language_info": {
   "codemirror_mode": {
    "name": "ipython",
    "version": 3
   },
   "file_extension": ".py",
   "mimetype": "text/x-python",
   "name": "python",
   "nbconvert_exporter": "python",
   "pygments_lexer": "ipython3",
   "version": "3.11.7"
  }
 },
 "nbformat": 4,
 "nbformat_minor": 2
}
